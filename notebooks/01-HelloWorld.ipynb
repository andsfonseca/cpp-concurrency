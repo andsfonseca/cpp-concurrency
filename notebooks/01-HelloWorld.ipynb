{
 "cells": [
  {
   "cell_type": "markdown",
   "id": "3a3fab77-ef99-4695-a99f-0fa000dc47d3",
   "metadata": {
    "editable": true,
    "slideshow": {
     "slide_type": ""
    },
    "tags": []
   },
   "source": [
    "# C++ Concurrency in Actionn"
   ]
  },
  {
   "cell_type": "markdown",
   "id": "21878d18-5e93-4d16-8c5c-6be4f8dfa052",
   "metadata": {
    "vscode": {
     "languageId": "c++"
    }
   },
   "source": [
    "## 1. Hello, world of concurrency in C++!\n",
    "\n",
    "This notebook is about writing programs in C++ using multiple threads for concurrency and the C++ language features and library facilities that make it possible. \n"
   ]
  },
  {
   "cell_type": "markdown",
   "id": "dc70495b-02ae-4d88-8b59-81b7cd4fecb7",
   "metadata": {},
   "source": [
    "### 4. Get Started.\n",
    "What does a multithreaded C++ program look like? It looks much like any other C++ program, with the usual mix of variables, classes, and functions. The only real distinction is that some functions might be running concurrently, so you need to ensure that shared data is safe for concurrent access. In order to run func\u0002tions concurrently, specific functions and objects must be used to manage the different threads.\n"
   ]
  },
  {
   "cell_type": "code",
   "execution_count": 1,
   "id": "875b0883-4885-43ce-91ac-5f01c5bf11f7",
   "metadata": {
    "vscode": {
     "languageId": "c++"
    }
   },
   "outputs": [],
   "source": [
    "//Includes\n",
    "#include <iostream>\n",
    "#include <thread> "
   ]
  },
  {
   "cell_type": "code",
   "execution_count": 2,
   "id": "404e6df2-1b74-42ac-9a70-a13d85d62448",
   "metadata": {},
   "outputs": [],
   "source": [
    "void hello() \n",
    "{\n",
    "    std::cout<<\"Hello Concurrent World\\n\";\n",
    "}"
   ]
  },
  {
   "cell_type": "code",
   "execution_count": 3,
   "id": "74449a6e-688e-4f85-ab02-bc59688cd2b7",
   "metadata": {},
   "outputs": [
    {
     "name": "stdout",
     "output_type": "stream",
     "text": [
      "Hello Concurrent World\n"
     ]
    }
   ],
   "source": [
    "std::thread t(hello); \n",
    "t.join();"
   ]
  },
  {
   "cell_type": "code",
   "execution_count": null,
   "id": "7253d529-eb2f-4a9a-8043-a107b857a291",
   "metadata": {},
   "outputs": [],
   "source": []
  }
 ],
 "metadata": {
  "kernelspec": {
   "display_name": "C++17",
   "language": "C++17",
   "name": "xcpp17"
  },
  "language_info": {
   "codemirror_mode": "text/x-c++src",
   "file_extension": ".cpp",
   "mimetype": "text/x-c++src",
   "name": "c++",
   "version": "17"
  }
 },
 "nbformat": 4,
 "nbformat_minor": 5
}
